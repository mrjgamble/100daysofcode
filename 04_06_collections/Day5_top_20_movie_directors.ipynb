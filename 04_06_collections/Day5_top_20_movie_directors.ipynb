{
 "cells": [
  {
   "cell_type": "markdown",
   "metadata": {},
   "source": [
    "# Day 5 - Using collections"
   ]
  },
  {
   "cell_type": "markdown",
   "metadata": {},
   "source": [
    "Today we look at a code challenge from PyBites (https://pybit.es/codechallenge13.html).  The challenge - find the 20 highest rated directors based on their average movie IMDB ratings.  \n",
    "\n",
    "Output should follow a similar formats as below: "
   ]
  },
  {
   "cell_type": "raw",
   "metadata": {},
   "source": [
    "01. Sergio Leone                                         8.5\n",
    "------------------------------------------------------------\n",
    "1966] The Good, the Bad and the Ugly                     8.9\n",
    "1968] Once Upon a Time in the West                       8.6\n",
    "1984] Once Upon a Time in America                        8.4\n",
    "1964] A Fistful of Dollars                               8.0\n",
    "\n",
    "02. Christopher Nolan                                    8.4\n",
    "------------------------------------------------------------\n",
    "2008] The Dark Knight                                    9.0\n",
    "2010] Inception                                          8.8\n",
    "2014] Interstellar                                       8.6\n",
    "2012] The Dark Knight Rises                              8.5\n",
    "2006] The Prestige                                       8.5"
   ]
  },
  {
   "cell_type": "code",
   "execution_count": 167,
   "metadata": {},
   "outputs": [],
   "source": [
    "from urllib.request import urlretrieve\n",
    "from collections import namedtuple, defaultdict\n",
    "import pandas as pd\n",
    "import numpy as np\n",
    "from operator import itemgetter"
   ]
  },
  {
   "cell_type": "markdown",
   "metadata": {},
   "source": [
    "PyBites have provided a download link to the dataset.  We'll grab the dataset and save it in our current working directory. "
   ]
  },
  {
   "cell_type": "code",
   "execution_count": 2,
   "metadata": {},
   "outputs": [
    {
     "data": {
      "text/plain": [
       "('movies.csv', <http.client.HTTPMessage at 0x106433b70>)"
      ]
     },
     "execution_count": 2,
     "metadata": {},
     "output_type": "execute_result"
    }
   ],
   "source": [
    "movie_data = 'https://raw.githubusercontent.com/pybites/challenges/solutions/13/movie_metadata.csv'\n",
    "movies_csv = 'movies.csv'\n",
    "urlretrieve(movie_data, movies_csv)"
   ]
  },
  {
   "cell_type": "code",
   "execution_count": 180,
   "metadata": {},
   "outputs": [
    {
     "name": "stdout",
     "output_type": "stream",
     "text": [
      "<class 'pandas.core.frame.DataFrame'>\n",
      "Int64Index: 4935 entries, 0 to 5042\n",
      "Data columns (total 28 columns):\n",
      "color                        4920 non-null object\n",
      "director_name                4935 non-null object\n",
      "num_critic_for_reviews       4894 non-null float64\n",
      "duration                     4923 non-null float64\n",
      "director_facebook_likes      4935 non-null float64\n",
      "actor_3_facebook_likes       4917 non-null float64\n",
      "actor_2_name                 4925 non-null object\n",
      "actor_1_facebook_likes       4928 non-null float64\n",
      "gross                        4156 non-null float64\n",
      "genres                       4935 non-null object\n",
      "actor_1_name                 4928 non-null object\n",
      "movie_title                  4935 non-null object\n",
      "num_voted_users              4935 non-null int64\n",
      "cast_total_facebook_likes    4935 non-null int64\n",
      "actor_3_name                 4917 non-null object\n",
      "facenumber_in_poster         4922 non-null float64\n",
      "plot_keywords                4795 non-null object\n",
      "movie_imdb_link              4935 non-null object\n",
      "num_user_for_reviews         4920 non-null float64\n",
      "language                     4926 non-null object\n",
      "country                      4934 non-null object\n",
      "content_rating               4674 non-null object\n",
      "budget                       4543 non-null float64\n",
      "title_year                   4935 non-null float64\n",
      "actor_2_facebook_likes       4925 non-null float64\n",
      "imdb_score                   4935 non-null float64\n",
      "aspect_ratio                 4628 non-null float64\n",
      "movie_facebook_likes         4935 non-null int64\n",
      "dtypes: float64(13), int64(3), object(12)\n",
      "memory usage: 1.1+ MB\n"
     ]
    }
   ],
   "source": [
    "# read file\n",
    "imdb_movie_list = pd.read_csv('movies.csv')\n",
    "\n",
    "# drop rows containing missing data \n",
    "imdb_movie_list.dropna(subset=['director_name', 'title_year', 'imdb_score'], inplace=True)\n",
    "\n",
    "imdb_movie_list.info()"
   ]
  },
  {
   "cell_type": "markdown",
   "metadata": {},
   "source": [
    "## Data Restrictions\n",
    "\n",
    "There are a few restrictions in this challenge based on the data provided\n",
    "* only consider directors with a minimum of 4 movies\n",
    "* only consider movies created >= 1960.\n",
    "\n",
    "Let's tackle these requirements."
   ]
  },
  {
   "cell_type": "markdown",
   "metadata": {},
   "source": [
    "First - limit the dataset to only contain movies created in or later than the year 1960. "
   ]
  },
  {
   "cell_type": "code",
   "execution_count": 181,
   "metadata": {},
   "outputs": [],
   "source": [
    "# we only want movies made >= 1960\n",
    "imdb_movie_list = imdb_movie_list[imdb_movie_list.title_year >= 1960]"
   ]
  },
  {
   "cell_type": "markdown",
   "metadata": {},
   "source": [
    "Second - let's include only those directors that have made at least 4 movies"
   ]
  },
  {
   "cell_type": "code",
   "execution_count": 182,
   "metadata": {},
   "outputs": [],
   "source": [
    "# we only want directors that have made at least 4 movies.  We can do this using a Counter\n",
    "director_list = Counter(imdb_movie_list.director_name)\n",
    "director_list = list({d:director_list[d] for d in director_list if director_list[d] >= 4}.keys())\n",
    "\n",
    "# filter overall list to only include directors with at least 4 movies\n",
    "imdb_movie_list = imdb_movie_list[imdb_movie_list.director_name.isin(directors_list)]"
   ]
  },
  {
   "cell_type": "markdown",
   "metadata": {},
   "source": [
    "Third - it looks like the movie names were not interpreted correctly.  We have a weird \\xa0 in each movie name.  Let's remove this."
   ]
  },
  {
   "cell_type": "code",
   "execution_count": 183,
   "metadata": {},
   "outputs": [
    {
     "data": {
      "text/plain": [
       "array(['Avatar\\xa0', \"Pirates of the Caribbean: At World's End\\xa0\",\n",
       "       'Spectre\\xa0', ..., 'Rampage\\xa0', 'Slacker\\xa0',\n",
       "       'El Mariachi\\xa0'], dtype=object)"
      ]
     },
     "execution_count": 183,
     "metadata": {},
     "output_type": "execute_result"
    }
   ],
   "source": [
    "imdb_movie_list.movie_title.values"
   ]
  },
  {
   "cell_type": "code",
   "execution_count": 184,
   "metadata": {},
   "outputs": [],
   "source": [
    "# Remove bogus characters\n",
    "imdb_movie_list['movie_title'] = imdb_movie_list.movie_title.apply(lambda d: unicodedata.normalize('NFKD', d).strip())"
   ]
  },
  {
   "cell_type": "markdown",
   "metadata": {},
   "source": [
    "## Data Organization\n",
    "We will represent each movie using a namedtuple, and group each movie by director - storing the results in a defaultdict."
   ]
  },
  {
   "cell_type": "code",
   "execution_count": 185,
   "metadata": {},
   "outputs": [],
   "source": [
    "# declare our movie tuple\n",
    "Movie = namedtuple('Movie', ['name', 'year', 'imdb_rating'])\n",
    "\n",
    "# declare dictionary to hold data\n",
    "movie_dict = defaultdict(list)\n",
    "\n",
    "# Fill dictionary with each director:movie pairing\n",
    "for index, item in imdb_movie_list.iterrows():\n",
    "\n",
    "    # create movie tuple\n",
    "    m = Movie(item.movie_title, int(item.title_year), item.imdb_score)\n",
    "\n",
    "    # store result\n",
    "    movie_dict[item.director_name].append(m)    "
   ]
  },
  {
   "cell_type": "markdown",
   "metadata": {},
   "source": [
    "## Data Presentation\n",
    "With our data organized, we can now display our results.  \n",
    "\n",
    "We will first sort our dictionary based on the each director's average rating.  Once we've found our top 20 directors, we can display the results."
   ]
  },
  {
   "cell_type": "code",
   "execution_count": 186,
   "metadata": {},
   "outputs": [],
   "source": [
    "def calc_avg_rating(m_list):\n",
    "    '''\n",
    "        Given a list of movies, finds the average movie rating. \n",
    "    '''\n",
    "    \n",
    "    rating = []\n",
    "\n",
    "    # get rating for each movie\n",
    "    for m in m_list:\n",
    "        rating.append(m.imdb_rating)\n",
    "\n",
    "    return np.mean(rating)\n",
    "\n",
    "def find_avg_director_rating(tup):\n",
    "    '''\n",
    "        Given a director:movie_list object, finds the average rating for the \n",
    "        director. \n",
    "    '''\n",
    "\n",
    "    # break apart tuple\n",
    "    director, m_list = tup\n",
    "    \n",
    "    return calc_avg_rating(m_list)\n"
   ]
  },
  {
   "cell_type": "code",
   "execution_count": 187,
   "metadata": {},
   "outputs": [],
   "source": [
    "# Sort the dictionary in order from best director to worst\n",
    "sorted_directors = sorted(movie_dict.items(), key=lambda tup: find_avg_director_rating(tup), reverse=True)"
   ]
  },
  {
   "cell_type": "markdown",
   "metadata": {},
   "source": [
    "Now that we know the top 20 directors, all we have to do is print the results"
   ]
  },
  {
   "cell_type": "code",
   "execution_count": 188,
   "metadata": {
    "scrolled": false
   },
   "outputs": [
    {
     "name": "stdout",
     "output_type": "stream",
     "text": [
      "01. Christopher Nolan                                    8.4\n",
      "------------------------------------------------------------\n",
      "2008] The Dark Knight                                    9.0\n",
      "2010] Inception                                          8.8\n",
      "2014] Interstellar                                       8.6\n",
      "2012] The Dark Knight Rises                              8.5\n",
      "2006] The Prestige                                       8.5\n",
      "2000] Memento                                            8.5\n",
      "2005] Batman Begins                                      8.3\n",
      "2002] Insomnia                                           7.2\n",
      "\n",
      "02. Quentin Tarantino                                    8.2\n",
      "------------------------------------------------------------\n",
      "1994] Pulp Fiction                                       8.9\n",
      "2012] Django Unchained                                   8.5\n",
      "1992] Reservoir Dogs                                     8.4\n",
      "2009] Inglourious Basterds                               8.3\n",
      "2003] Kill Bill: Vol. 1                                  8.1\n",
      "2004] Kill Bill: Vol. 2                                  8.0\n",
      "2015] The Hateful Eight                                  7.9\n",
      "1997] Jackie Brown                                       7.5\n",
      "\n",
      "03. Stanley Kubrick                                      8.0\n",
      "------------------------------------------------------------\n",
      "1964] Dr. Strangelove or: How I Learned to Stop Worry... 8.5\n",
      "1980] The Shining                                        8.4\n",
      "1968] 2001: A Space Odyssey                              8.3\n",
      "1975] Barry Lyndon                                       8.1\n",
      "1962] Lolita                                             7.7\n",
      "1962] Lolita                                             7.7\n",
      "1999] Eyes Wide Shut                                     7.3\n",
      "\n",
      "04. James Cameron                                        7.9\n",
      "------------------------------------------------------------\n",
      "1991] Terminator 2: Judgment Day                         8.5\n",
      "1986] Aliens                                             8.4\n",
      "1984] The Terminator                                     8.1\n",
      "2009] Avatar                                             7.9\n",
      "1997] Titanic                                            7.7\n",
      "1989] The Abyss                                          7.6\n",
      "1994] True Lies                                          7.2\n",
      "\n",
      "05. Alejandro G. Iñárritu                                7.8\n",
      "------------------------------------------------------------\n",
      "2015] The Revenant                                       8.1\n",
      "2000] Amores Perros                                      8.1\n",
      "2014] Birdman or (The Unexpected Virtue of Ignorance)    7.8\n",
      "2003] 21 Grams                                           7.7\n",
      "2010] Biutiful                                           7.5\n",
      "2006] Babel                                              7.5\n",
      "\n",
      "06. David Fincher                                        7.8\n",
      "------------------------------------------------------------\n",
      "1999] Fight Club                                         8.8\n",
      "1995] Se7en                                              8.6\n",
      "2014] Gone Girl                                          8.1\n",
      "2008] The Curious Case of Benjamin Button                7.8\n",
      "2011] The Girl with the Dragon Tattoo                    7.8\n",
      "1997] The Game                                           7.8\n",
      "2007] Zodiac                                             7.7\n",
      "2010] The Social Network                                 7.7\n",
      "2002] Panic Room                                         6.8\n",
      "1992] Alien 3                                            6.4\n",
      "\n",
      "07. Peter Jackson                                        7.7\n",
      "------------------------------------------------------------\n",
      "2003] The Lord of the Rings: The Return of the King      8.9\n",
      "2001] The Lord of the Rings: The Fellowship of the Ring  8.8\n",
      "2002] The Lord of the Rings: The Two Towers              8.7\n",
      "2013] The Hobbit: The Desolation of Smaug                7.9\n",
      "2012] The Hobbit: An Unexpected Journey                  7.9\n",
      "2014] The Hobbit: The Battle of the Five Armies          7.5\n",
      "1994] Heavenly Creatures                                 7.4\n",
      "2005] King Kong                                          7.2\n",
      "2005] King Kong                                          7.2\n",
      "2005] King Kong                                          7.2\n",
      "2009] The Lovely Bones                                   6.7\n",
      "2009] The Lovely Bones                                   6.7\n",
      "\n",
      "08. Martin Scorsese                                      7.7\n",
      "------------------------------------------------------------\n",
      "1990] Goodfellas                                         8.7\n",
      "2006] The Departed                                       8.5\n",
      "1980] Raging Bull                                        8.3\n",
      "1976] Taxi Driver                                        8.3\n",
      "2013] The Wolf of Wall Street                            8.2\n",
      "1995] Casino                                             8.2\n",
      "1978] The Last Waltz                                     8.2\n",
      "2010] Shutter Island                                     8.1\n",
      "1988] The Last Temptation of Christ                      7.6\n",
      "2011] Hugo                                               7.5\n",
      "2004] The Aviator                                        7.5\n",
      "2002] Gangs of New York                                  7.5\n",
      "1973] Mean Streets                                       7.4\n",
      "1991] Cape Fear                                          7.3\n",
      "1993] The Age of Innocence                               7.2\n",
      "2008] Shine a Light                                      7.2\n",
      "1997] Kundun                                             7.0\n",
      "1986] The Color of Money                                 7.0\n",
      "1999] Bringing Out the Dead                              6.8\n",
      "1977] New York, New York                                 6.7\n",
      "\n",
      "09. David Lynch                                          7.6\n",
      "------------------------------------------------------------\n",
      "1980] The Elephant Man                                   8.2\n",
      "2001] Mulholland Drive                                   8.0\n",
      "1999] The Straight Story                                 8.0\n",
      "1977] Eraserhead                                         7.4\n",
      "1984] Dune                                               6.6\n",
      "\n",
      "10. Wes Anderson                                         7.6\n",
      "------------------------------------------------------------\n",
      "2014] The Grand Budapest Hotel                           8.1\n",
      "2009] Fantastic Mr. Fox                                  7.8\n",
      "2012] Moonrise Kingdom                                   7.8\n",
      "1998] Rushmore                                           7.7\n",
      "2001] The Royal Tenenbaums                               7.6\n",
      "2004] The Life Aquatic with Steve Zissou                 7.3\n",
      "1996] Bottle Rocket                                      7.1\n",
      "\n",
      "11. Paul Greengrass                                      7.6\n",
      "------------------------------------------------------------\n",
      "2007] The Bourne Ultimatum                               8.1\n",
      "2013] Captain Phillips                                   7.9\n",
      "2004] The Bourne Supremacy                               7.8\n",
      "2002] Bloody Sunday                                      7.7\n",
      "2006] United 93                                          7.6\n",
      "2016] Jason Bourne                                       7.1\n",
      "2010] Green Zone                                         6.9\n",
      "\n",
      "12. Brad Bird                                            7.6\n",
      "------------------------------------------------------------\n",
      "2007] Ratatouille                                        8.0\n",
      "2004] The Incredibles                                    8.0\n",
      "1999] The Iron Giant                                     8.0\n",
      "2011] Mission: Impossible - Ghost Protocol               7.4\n",
      "2015] Tomorrowland                                       6.5\n",
      "\n",
      "13. Paul Thomas Anderson                                 7.5\n",
      "------------------------------------------------------------\n",
      "2007] There Will Be Blood                                8.1\n",
      "1999] Magnolia                                           8.0\n",
      "1997] Boogie Nights                                      7.9\n",
      "2002] Punch-Drunk Love                                   7.3\n",
      "2012] The Master                                         7.1\n",
      "2014] Inherent Vice                                      6.7\n",
      "\n",
      "14. Sam Mendes                                           7.5\n",
      "------------------------------------------------------------\n",
      "1999] American Beauty                                    8.4\n",
      "2012] Skyfall                                            7.8\n",
      "2012] Skyfall                                            7.8\n",
      "2002] Road to Perdition                                  7.7\n",
      "2008] Revolutionary Road                                 7.3\n",
      "2005] Jarhead                                            7.1\n",
      "2009] Away We Go                                         7.1\n",
      "2015] Spectre                                            6.8\n",
      "\n",
      "15. Darren Aronofsky                                     7.5\n",
      "------------------------------------------------------------\n",
      "2000] Requiem for a Dream                                8.4\n",
      "2010] Black Swan                                         8.0\n",
      "2008] The Wrestler                                       7.9\n",
      "1998] Pi                                                 7.5\n",
      "2006] The Fountain                                       7.3\n",
      "2014] Noah                                               5.8\n",
      "\n",
      "16. Steven Spielberg                                     7.5\n",
      "------------------------------------------------------------\n",
      "1993] Schindler's List                                   8.9\n",
      "1998] Saving Private Ryan                                8.6\n",
      "1981] Raiders of the Lost Ark                            8.5\n",
      "1989] Indiana Jones and the Last Crusade                 8.3\n",
      "1993] Jurassic Park                                      8.1\n",
      "2002] Catch Me If You Can                                8.0\n",
      "1975] Jaws                                               8.0\n",
      "1982] E.T. the Extra-Terrestrial                         7.9\n",
      "1985] The Color Purple                                   7.8\n",
      "2002] Minority Report                                    7.7\n",
      "1977] Close Encounters of the Third Kind                 7.7\n",
      "2005] Munich                                             7.6\n",
      "2015] Bridge of Spies                                    7.6\n",
      "1984] Indiana Jones and the Temple of Doom               7.6\n",
      "2011] The Adventures of Tintin                           7.4\n",
      "2012] Lincoln                                            7.4\n",
      "2004] The Terminal                                       7.3\n",
      "2011] War Horse                                          7.2\n",
      "1997] Amistad                                            7.2\n",
      "2001] A.I. Artificial Intelligence                       7.1\n",
      "2016] The BFG                                            6.8\n",
      "1991] Hook                                               6.7\n",
      "2005] War of the Worlds                                  6.5\n",
      "1997] The Lost World: Jurassic Park                      6.5\n",
      "2008] Indiana Jones and the Kingdom of the Crystal Skull 6.2\n",
      "1979] 1941                                               5.9\n",
      "\n",
      "17. Alexander Payne                                      7.4\n",
      "------------------------------------------------------------\n",
      "2013] Nebraska                                           7.8\n",
      "2004] Sideways                                           7.5\n",
      "2011] The Descendants                                    7.3\n",
      "1999] Election                                           7.3\n",
      "2002] About Schmidt                                      7.2\n",
      "\n",
      "18. Francis Ford Coppola                                 7.4\n",
      "------------------------------------------------------------\n",
      "1972] The Godfather                                      9.2\n",
      "1974] The Godfather: Part II                             9.0\n",
      "1979] Apocalypse Now                                     8.5\n",
      "1974] The Conversation                                   7.9\n",
      "1990] The Godfather: Part III                            7.6\n",
      "1992] Bram Stoker's Dracula                              7.5\n",
      "1983] The Outsiders                                      7.2\n",
      "1997] The Rainmaker                                      7.1\n",
      "1984] The Cotton Club                                    6.5\n",
      "1986] Peggy Sue Got Married                              6.3\n",
      "2011] Twixt                                              4.8\n",
      "\n",
      "19. Roman Polanski                                       7.4\n",
      "------------------------------------------------------------\n",
      "2002] The Pianist                                        8.5\n",
      "1968] Rosemary's Baby                                    8.0\n",
      "2010] The Ghost Writer                                   7.2\n",
      "2011] Carnage                                            7.2\n",
      "2005] Oliver Twist                                       6.9\n",
      "1999] The Ninth Gate                                     6.7\n",
      "\n",
      "20. George Lucas                                         7.4\n",
      "------------------------------------------------------------\n",
      "1977] Star Wars: Episode IV - A New Hope                 8.7\n",
      "2005] Star Wars: Episode III - Revenge of the Sith       7.6\n",
      "1973] American Graffiti                                  7.5\n",
      "2002] Star Wars: Episode II - Attack of the Clones       6.7\n",
      "1999] Star Wars: Episode I - The Phantom Menace          6.5\n",
      "\n"
     ]
    }
   ],
   "source": [
    "# Loop through the top 20 directors\n",
    "for idx, (director, m_list) in enumerate(sorted_directors[:20]):\n",
    "\n",
    "    # find the average movie rating for director\n",
    "    avg_rating = calc_avg_rating(m_list)\n",
    "\n",
    "    # print director summary\n",
    "    print('{:02}. {:<52} {:.1f}'.format(idx+1, director, avg_rating))\n",
    "    print('-'*60)\n",
    "\n",
    "    # print movie list summary\n",
    "    for item in sorted(m_list, key=lambda x: x.imdb_rating, reverse=True):\n",
    "\n",
    "        # we turncate any movie names over 50 characters in length\n",
    "        title = (item.name[:47] + '...') if len(item.name)>50 else item.name\n",
    "        \n",
    "        print('{}] {:<50} {}'.format(item.year, title, item.imdb_rating))\n",
    "    \n",
    "    print()"
   ]
  },
  {
   "cell_type": "markdown",
   "metadata": {},
   "source": [
    "We have used our knowledge using Counters, defaultdicts, and namedtuples to complete today's task.  "
   ]
  },
  {
   "cell_type": "code",
   "execution_count": null,
   "metadata": {},
   "outputs": [],
   "source": []
  }
 ],
 "metadata": {
  "kernelspec": {
   "display_name": "Python 3",
   "language": "python",
   "name": "python3"
  },
  "language_info": {
   "codemirror_mode": {
    "name": "ipython",
    "version": 3
   },
   "file_extension": ".py",
   "mimetype": "text/x-python",
   "name": "python",
   "nbconvert_exporter": "python",
   "pygments_lexer": "ipython3",
   "version": "3.6.5"
  }
 },
 "nbformat": 4,
 "nbformat_minor": 2
}
