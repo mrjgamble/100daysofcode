{
 "cells": [
  {
   "cell_type": "markdown",
   "metadata": {},
   "source": [
    "# Collections Module"
   ]
  },
  {
   "cell_type": "code",
   "execution_count": 36,
   "metadata": {},
   "outputs": [],
   "source": [
    "from collections import defaultdict, namedtuple, deque"
   ]
  },
  {
   "cell_type": "markdown",
   "metadata": {},
   "source": [
    "## 1. namedtuple\n",
    "Q: Why are they important?\n",
    "\n",
    "A: namedtuples 'can be used as a way to define classes without methods.  They can be used wherever regular tuples are used, and they add the ability to access fields by name instead of position index.'\n",
    "https://docs.python.org/3.7/library/collections.html#collections.namedtuple"
   ]
  },
  {
   "cell_type": "markdown",
   "metadata": {},
   "source": [
    "Q: Can you give me an example? \n",
    "\n",
    "A: Yes.\n",
    "\n",
    "var = namedtuple(typename, ['filedname1', 'fieldname2', 'etc'])\n",
    "\n",
    "You could also ues the following (with field names separated by whitespace and/or commas), but I prefer the above.\n",
    "\n",
    "var = namedtuple(typename, 'filedname1 fieldname2 etc')"
   ]
  },
  {
   "cell_type": "code",
   "execution_count": 54,
   "metadata": {},
   "outputs": [
    {
     "name": "stdout",
     "output_type": "stream",
     "text": [
      "bob is a coder\n"
     ]
    }
   ],
   "source": [
    "# using a regular tuple\n",
    "user = ('bob', 'coder')\n",
    "print('{} is a {}'.format(user[0], user[1]))"
   ]
  },
  {
   "cell_type": "code",
   "execution_count": 55,
   "metadata": {},
   "outputs": [
    {
     "name": "stdout",
     "output_type": "stream",
     "text": [
      "bob is a coder\n"
     ]
    }
   ],
   "source": [
    "# using a named tuple\n",
    "User = namedtuple('User', ['name', 'role'])\n",
    "\n",
    "user = User('bob', 'coder')\n",
    "print('{} is a {}'.format(user.name, user.role))"
   ]
  },
  {
   "cell_type": "markdown",
   "metadata": {},
   "source": [
    "## 2. defaultdict\n",
    "Q: Why are they important?\n",
    "A: Creates a deafult dictionary value when referencing keys that do not yet exist.  "
   ]
  },
  {
   "cell_type": "markdown",
   "metadata": {},
   "source": [
    "Q: I don't get it.  Give me an example.\n",
    "A: Ok. \n",
    "    \n",
    "Let's say you take a survey, asking people to rate the colours red, blue, and yellow from 1 to 3. \n",
    "\n",
    "we have the survey results in the form: "
   ]
  },
  {
   "cell_type": "code",
   "execution_count": 56,
   "metadata": {},
   "outputs": [
    {
     "data": {
      "text/plain": [
       "True"
      ]
     },
     "execution_count": 56,
     "metadata": {},
     "output_type": "execute_result"
    }
   ],
   "source": [
    "colours = {}\n",
    "colours.get('yellow') is None"
   ]
  },
  {
   "cell_type": "code",
   "execution_count": 40,
   "metadata": {},
   "outputs": [
    {
     "ename": "KeyError",
     "evalue": "'yellow'",
     "output_type": "error",
     "traceback": [
      "\u001b[0;31m---------------------------------------------------------------------------\u001b[0m",
      "\u001b[0;31mKeyError\u001b[0m                                  Traceback (most recent call last)",
      "\u001b[0;32m<ipython-input-40-cf4199fb69a2>\u001b[0m in \u001b[0;36m<module>\u001b[0;34m()\u001b[0m\n\u001b[1;32m      5\u001b[0m \u001b[0mcolours\u001b[0m \u001b[0;34m=\u001b[0m \u001b[0;34m{\u001b[0m\u001b[0;34m}\u001b[0m\u001b[0;34m\u001b[0m\u001b[0m\n\u001b[1;32m      6\u001b[0m \u001b[0;32mfor\u001b[0m \u001b[0mcolour\u001b[0m\u001b[0;34m,\u001b[0m \u001b[0mrank\u001b[0m \u001b[0;32min\u001b[0m \u001b[0mcolour_pref\u001b[0m\u001b[0;34m:\u001b[0m\u001b[0;34m\u001b[0m\u001b[0m\n\u001b[0;32m----> 7\u001b[0;31m     \u001b[0mcolours\u001b[0m\u001b[0;34m[\u001b[0m\u001b[0mcolour\u001b[0m\u001b[0;34m]\u001b[0m\u001b[0;34m.\u001b[0m\u001b[0mappend\u001b[0m\u001b[0;34m(\u001b[0m\u001b[0mrank\u001b[0m\u001b[0;34m)\u001b[0m\u001b[0;34m\u001b[0m\u001b[0m\n\u001b[0m",
      "\u001b[0;31mKeyError\u001b[0m: 'yellow'"
     ]
    }
   ],
   "source": [
    "colour_pref = [('yellow', 1), ('blue', 2), ('yellow', 3), ('blue', 1), ('red', 1)]\n",
    "\n",
    "colours = {}\n",
    "for colour, rank in colour_pref:\n",
    "    colours[colour].append(rank)"
   ]
  },
  {
   "cell_type": "markdown",
   "metadata": {},
   "source": [
    "We can get around this by using a defaultdict, and declaring that the default value will be a list.  When trying to reference a key that does not yet exist, the defaultdict will return an empty list."
   ]
  },
  {
   "cell_type": "code",
   "execution_count": 41,
   "metadata": {},
   "outputs": [
    {
     "data": {
      "text/plain": [
       "defaultdict(list, {'yellow': [1, 3], 'blue': [2, 4, 2], 'red': [1]})"
      ]
     },
     "execution_count": 41,
     "metadata": {},
     "output_type": "execute_result"
    }
   ],
   "source": [
    "colour_pref = [('yellow', 1), ('blue', 2), ('yellow', 3), ('blue', 4), ('red', 1), ('blue', 2)]\n",
    "\n",
    "colours = defaultdict(list)\n",
    "for colour, rank in colour_pref:\n",
    "    colours[colour].append(rank)\n",
    "\n",
    "colours"
   ]
  },
  {
   "cell_type": "markdown",
   "metadata": {},
   "source": [
    "# 3. Counter\n",
    "Q: Why are they important?\n",
    "\n",
    "A: It is an unordered collection where elements are stored as dictionary keys and their counts are stored as dictionary values. Counts are allowed to be any integer value including zero or negative counts.\n",
    "https://docs.python.org/3.7/library/collections.html#collections.Counter"
   ]
  },
  {
   "cell_type": "markdown",
   "metadata": {},
   "source": [
    "Q: How about an example?\n",
    "\n",
    "A: Sure.\n",
    "\n",
    "Let's say we want to determine the most frequent occuring word in a text block.  Take the below text:"
   ]
  },
  {
   "cell_type": "code",
   "execution_count": 14,
   "metadata": {},
   "outputs": [
    {
     "data": {
      "text/plain": [
       "['Vestibulum', 'faucibus', 'lacus', 'et', 'tristique']"
      ]
     },
     "execution_count": 14,
     "metadata": {},
     "output_type": "execute_result"
    }
   ],
   "source": [
    "text = 'Vestibulum faucibus lacus et tristique imperdiet. Duis fringilla dui id tellus eleifend, \\\n",
    "vitae bibendum purus aliquet. Aliquam quis ligula placerat, varius est in, viverra quam. Donec non quam \\\n",
    "ac lorem pretium maximus sed a nibh. Sed vestibulum nunc quis massa dignissim posuere. Praesent vitae \\\n",
    "sapien felis. Aliquam placerat ex a dolor fringilla suscipit. Nunc feugiat nibh urna, sit amet dictum mi \\\n",
    "facilisis non. Curabitur efficitur, sem sed egestas scelerisque, sem metus elementum orci, at vulputate enim \\\n",
    "neque non purus. Nunc non arcu nec leo ultrices pretium quis ac mi. Ut pharetra massa nec orci facilisis porta. \\\n",
    "Suspendisse potenti. Nam non quam hendrerit, placerat ligula at, congue justo. Nunc consequat neque risus, \\\n",
    "ultrices maximus sem lobortis eget. Proin sodales maximus arcu cursus ultrices. Mauris turpis arcu, scelerisque \\\n",
    "nec neque nec, elementum aliquam tellus. Etiam vestibulum, odio quis viverra tempor, dui sem vehicula enim, eu\\\n",
    "vehicula odio orci vel diam. Mauris et tempor tellus, sed eleifend felis. Vivamus at porttitor enim. Donec justo \\\n",
    "justo, dictum id fringilla nec, sodales eget turpis. Aenean sit amet dui ligula. Fusce laoreet venenatis massa \\\n",
    "volutpat faucibus. Aenean vel dui tristique, posuere libero in, malesuada neque.'.split()\n",
    "\n",
    "text[:5]"
   ]
  },
  {
   "cell_type": "markdown",
   "metadata": {},
   "source": [
    "Initializing the Counter variable using the text, we can easily find the most commonly occuring words"
   ]
  },
  {
   "cell_type": "code",
   "execution_count": 57,
   "metadata": {},
   "outputs": [],
   "source": [
    "# declare counter\n",
    "c = Counter(text)"
   ]
  },
  {
   "cell_type": "code",
   "execution_count": 58,
   "metadata": {},
   "outputs": [
    {
     "data": {
      "text/plain": [
       "[('dui', 4), ('quis', 4), ('non', 4), ('sem', 4), ('fringilla', 3)]"
      ]
     },
     "execution_count": 58,
     "metadata": {},
     "output_type": "execute_result"
    }
   ],
   "source": [
    "# show me the 5 most common words\n",
    "c.most_common(5)"
   ]
  },
  {
   "cell_type": "code",
   "execution_count": 59,
   "metadata": {},
   "outputs": [
    {
     "data": {
      "text/plain": [
       "4"
      ]
     },
     "execution_count": 59,
     "metadata": {},
     "output_type": "execute_result"
    }
   ],
   "source": [
    "# we can also see the count of a specific item\n",
    "c['non']"
   ]
  },
  {
   "cell_type": "markdown",
   "metadata": {},
   "source": [
    "# 3. Deque"
   ]
  },
  {
   "cell_type": "markdown",
   "metadata": {},
   "source": [
    "Q: Why is this important?\n",
    "\n",
    "A: Deques are a generalization of stacks and queues (the name is pronounced “deck” and is short for “double-ended queue”). Deques support thread-safe, memory efficient appends and pops from either side of the deque with approximately the same O(1) performance in either direction.\n",
    "https://docs.python.org/3.7/library/collections.html#collections.deque"
   ]
  },
  {
   "cell_type": "markdown",
   "metadata": {},
   "source": [
    "Q: Can you give me an example?\n",
    "\n",
    "A: Yes."
   ]
  },
  {
   "cell_type": "markdown",
   "metadata": {},
   "source": [
    "This example comes from the 100 days of code in python course.  It demonstrates the speed of removing and inserting items in a list of 10,000,000 values held in a list versus a deque.  \n",
    "https://training.talkpython.fm/courses/details/100-days-of-code-in-python\n",
    "\n",
    "Notice that the results for the list are miliseconds, whereas the results for deque are microseconds.  Deque performs the same operations in a fraction of time.  "
   ]
  },
  {
   "cell_type": "code",
   "execution_count": 23,
   "metadata": {},
   "outputs": [
    {
     "name": "stdout",
     "output_type": "stream",
     "text": [
      "137 ms ± 2.5 ms per loop (mean ± std. dev. of 7 runs, 10 loops each)\n",
      "25.9 µs ± 1.47 µs per loop (mean ± std. dev. of 7 runs, 10000 loops each)\n"
     ]
    }
   ],
   "source": [
    "import random\n",
    "\n",
    "lst = list(range(10000000))\n",
    "deq = deque(range(10000000))\n",
    "\n",
    "def insert_and_delete(ds):\n",
    "    for _ in range(10):\n",
    "        index = random.choice(range(100))\n",
    "        ds.remove(index)\n",
    "        ds.insert(index, index)\n",
    "\n",
    "%timeit insert_and_delete(lst)\n",
    "\n",
    "%timeit insert_and_delete(deq)"
   ]
  },
  {
   "cell_type": "markdown",
   "metadata": {},
   "source": [
    "# 4. ChainMap\n",
    "Q. Why is this important?\n",
    "\n",
    "A. It took me a while to figure out why this was important.  It's useful when dealing with hiearchies that may have keys repeated through different levels of the hierarchy.  A good example of this might be when you have multiple configuration files - one for system defaults, one for environment defaults, and another for user specific defaults. "
   ]
  },
  {
   "cell_type": "markdown",
   "metadata": {},
   "source": [
    "Q. I need an example for sure.\n",
    "\n",
    "A. Let's look at accessing values in a ChainMap as well as updating values in a chain map.  A great resource for explanation of ChainMaps: https://pymotw.com/3/collections/chainmap.html"
   ]
  },
  {
   "cell_type": "markdown",
   "metadata": {},
   "source": [
    "#### Accessing Values\n",
    "Values are retrived based on the hierarchy created within the ChainMap.  From the example below, the value for they key 'scroll' is retreived from config_a, as it is listed first within the ChainMap.  The value for key 'size' is retreived from config_b since this key is not available in the first level of hierarchy."
   ]
  },
  {
   "cell_type": "code",
   "execution_count": 60,
   "metadata": {},
   "outputs": [
    {
     "name": "stdout",
     "output_type": "stream",
     "text": [
      "colour = yellow\n",
      "size = large\n",
      "scroll = horizontal\n"
     ]
    }
   ],
   "source": [
    "from collections import ChainMap\n",
    "\n",
    "config_a = {'colour':'yellow', 'scroll':'horizontal'}\n",
    "config_b = {'size':'large', 'scroll':'vertical'}\n",
    "\n",
    "config = ChainMap(config_a, config_b)\n",
    "\n",
    "print('colour = {}'.format(config['colour']))\n",
    "print('size = {}'.format(config['size']))\n",
    "print('scroll = {}'.format(config['scroll']))\n"
   ]
  },
  {
   "cell_type": "markdown",
   "metadata": {},
   "source": [
    "#### Updating Values\n",
    "A ChainMap does not make a copy of the source values used to create it - rather it references them.  As a result, if the original values are updated, the updated values will be reflected in the ChainMap."
   ]
  },
  {
   "cell_type": "code",
   "execution_count": 61,
   "metadata": {},
   "outputs": [
    {
     "name": "stdout",
     "output_type": "stream",
     "text": [
      "Before: yellow\n",
      "After: red\n"
     ]
    }
   ],
   "source": [
    "config_a = {'colour':'yellow', 'scroll':'horizontal'}\n",
    "config_b = {'size':'large', 'scroll':'vertical'}\n",
    "\n",
    "config = ChainMap(config_a, config_b)\n",
    "\n",
    "print('Before: {}'.format(config['colour']))\n",
    "config_a['colour'] = 'red'\n",
    "print('After: {}'.format(config['colour']))\n"
   ]
  },
  {
   "cell_type": "markdown",
   "metadata": {},
   "source": [
    "You can also update values using the ChainMap, however only the top level values will be updated.  We can see this demonstrated in the example below - notice that the value for 'scroll' is not updated in config_b.  \n"
   ]
  },
  {
   "cell_type": "code",
   "execution_count": 62,
   "metadata": {},
   "outputs": [
    {
     "name": "stdout",
     "output_type": "stream",
     "text": [
      "Before: ChainMap({'colour': 'yellow', 'scroll': 'horizontal'}, {'size': 'large', 'scroll': 'vertical'})\n",
      "After: ChainMap({'colour': 'yellow', 'scroll': 'none'}, {'size': 'large', 'scroll': 'vertical'})\n"
     ]
    }
   ],
   "source": [
    "config_a = {'colour':'yellow', 'scroll':'horizontal'}\n",
    "config_b = {'size':'large', 'scroll':'vertical'}\n",
    "\n",
    "config = ChainMap(config_a, config_b)\n",
    "\n",
    "print('Before: {}'.format(config))\n",
    "config['scroll'] = 'none'\n",
    "print('After: {}'.format(config))\n"
   ]
  },
  {
   "cell_type": "code",
   "execution_count": null,
   "metadata": {},
   "outputs": [],
   "source": []
  }
 ],
 "metadata": {
  "kernelspec": {
   "display_name": "Python 3",
   "language": "python",
   "name": "python3"
  },
  "language_info": {
   "codemirror_mode": {
    "name": "ipython",
    "version": 3
   },
   "file_extension": ".py",
   "mimetype": "text/x-python",
   "name": "python",
   "nbconvert_exporter": "python",
   "pygments_lexer": "ipython3",
   "version": "3.6.5"
  }
 },
 "nbformat": 4,
 "nbformat_minor": 2
}
