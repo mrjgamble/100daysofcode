{
 "cells": [
  {
   "cell_type": "markdown",
   "metadata": {},
   "source": [
    "# Day 9 - PyBite Challenge\n",
    "\n",
    "Our challenge - build a function for\n",
    "* Get every n-th state\n",
    "* get state abbreviation\n",
    "* get longest state\n",
    "* combine state names and abbreviations"
   ]
  },
  {
   "cell_type": "code",
   "execution_count": 49,
   "metadata": {},
   "outputs": [],
   "source": [
    "us_state_abbrev = {'Alabama': 'AL', 'Alaska': 'AK', 'Arizona': 'AZ',\n",
    "                   'Arkansas': 'AR', 'California': 'CA', 'Colorado': 'CO',\n",
    "                   'Connecticut': 'CT', 'Delaware': 'DE', 'Florida': 'FL',\n",
    "                   'Georgia': 'GA', 'Hawaii': 'HI', 'Idaho': 'ID',\n",
    "                   'Illinois': 'IL', 'Indiana': 'IN', 'Iowa': 'IA',\n",
    "                   'Kansas': 'KS', 'Kentucky': 'KY', 'Louisiana': 'LA',\n",
    "                   'Maine': 'ME', 'Maryland': 'MD', 'Massachusetts': 'MA',\n",
    "                   'Michigan': 'MI', 'Minnesota': 'MN', 'Mississippi': 'MS',\n",
    "                   'Missouri': 'MO', 'Montana': 'MT', 'Nebraska': 'NE',\n",
    "                   'Nevada': 'NV', 'New Hampshire': 'NH', 'New Jersey': 'NJ',\n",
    "                   'New Mexico': 'NM', 'New York': 'NY',\n",
    "                   'North Carolina': 'NC', 'North Dakota': 'ND',\n",
    "                   'Ohio': 'OH', 'Oklahoma': 'OK', 'Oregon': 'OR',\n",
    "                   'Pennsylvania': 'PA', 'Rhode Island': 'RI',\n",
    "                   'South Carolina': 'SC', 'South Dakota': 'SD',\n",
    "                   'Tennessee': 'TN', 'Texas': 'TX', 'Utah': 'UT',\n",
    "                   'Vermont': 'VT', 'Virginia': 'VA', 'Washington': 'WA',\n",
    "                   'West Virginia': 'WV', 'Wisconsin': 'WI', 'Wyoming': 'WY'}\n",
    "\n",
    "states = ['Oklahoma', 'Kansas', 'North Carolina', 'Georgia', 'Oregon',\n",
    "          'Mississippi', 'Minnesota', 'Colorado', 'Alabama',\n",
    "          'Massachusetts', 'Arizona', 'Connecticut', 'Montana',\n",
    "          'West Virginia', 'Nebraska', 'New York', 'Nevada', 'Idaho',\n",
    "          'New Jersey', 'Missouri', 'South Carolina', 'Pennsylvania',\n",
    "          'Rhode Island', 'New Mexico', 'Alaska', 'New Hampshire',\n",
    "          'Tennessee', 'Washington', 'Indiana', 'Hawaii', 'Kentucky',\n",
    "          'Virginia', 'Ohio', 'Wisconsin', 'Maryland', 'Florida',\n",
    "          'Utah', 'Maine', 'California', 'Vermont', 'Arkansas', 'Wyoming',\n",
    "          'Louisiana', 'North Dakota', 'South Dakota', 'Texas',\n",
    "          'Illinois', 'Iowa', 'Michigan', 'Delaware']\n",
    "\n",
    "NOT_FOUND = 'N/A'"
   ]
  },
  {
   "cell_type": "markdown",
   "metadata": {},
   "source": [
    "### 1. Get every nth state"
   ]
  },
  {
   "cell_type": "code",
   "execution_count": 12,
   "metadata": {},
   "outputs": [],
   "source": [
    "def get_every_nth_state(n=10):\n",
    "    \"\"\"Return a list with every nth item (default 10th item)\n",
    "       of states (takeaway: lists keep order)\"\"\"\n",
    "    \n",
    "    # use list comprehension to print every n-th item\n",
    "    return [s for idx, s in enumerate(states) if (idx+1) % n == 0] \n"
   ]
  },
  {
   "cell_type": "code",
   "execution_count": 13,
   "metadata": {},
   "outputs": [
    {
     "data": {
      "text/plain": [
       "['Massachusetts', 'Missouri', 'Hawaii', 'Vermont', 'Delaware']"
      ]
     },
     "execution_count": 13,
     "metadata": {},
     "output_type": "execute_result"
    }
   ],
   "source": [
    "get_every_nth_state()"
   ]
  },
  {
   "cell_type": "markdown",
   "metadata": {},
   "source": [
    "### 2. Get state abbreviation"
   ]
  },
  {
   "cell_type": "code",
   "execution_count": 17,
   "metadata": {},
   "outputs": [],
   "source": [
    "def get_state_abbrev(abbrev):\n",
    "    \"\"\"Look up a state abbreviation by full name in\n",
    "       us_state_abbrev, if not found return the string stored in the\n",
    "       NOT_FOUND constant (takeaway: dicts are great for lookups)\"\"\"\n",
    "    \n",
    "    # grab abbreviation if state exists in the dict\n",
    "    if abbrev in us_state_abbrev:\n",
    "        return us_state_abbrev[abbrev]\n",
    "    else:\n",
    "        return NOT_FOUND\n"
   ]
  },
  {
   "cell_type": "code",
   "execution_count": 19,
   "metadata": {},
   "outputs": [
    {
     "data": {
      "text/plain": [
       "'IL'"
      ]
     },
     "execution_count": 19,
     "metadata": {},
     "output_type": "execute_result"
    }
   ],
   "source": [
    "get_state_abbrev('Illinois')"
   ]
  },
  {
   "cell_type": "code",
   "execution_count": 20,
   "metadata": {},
   "outputs": [
    {
     "data": {
      "text/plain": [
       "'N/A'"
      ]
     },
     "execution_count": 20,
     "metadata": {},
     "output_type": "execute_result"
    }
   ],
   "source": [
    "get_state_abbrev('no_name')"
   ]
  },
  {
   "cell_type": "markdown",
   "metadata": {},
   "source": [
    "### 3. Get longest state name"
   ]
  },
  {
   "cell_type": "code",
   "execution_count": 46,
   "metadata": {},
   "outputs": [],
   "source": [
    "def get_longest_state(data):\n",
    "    \"\"\"Takes dict or list and determines the longest state name\n",
    "       (takeaways: use a dict method to get all keys, use sorted)\"\"\"\n",
    "    \n",
    "    # determine the data type and find the max length accordingly\n",
    "    if type(data) is list:\n",
    "        return max(data, key=len)    \n",
    "    elif type(data) is dict:\n",
    "        return max(data.keys(), key=len)\n",
    "    else:\n",
    "        return NOT_FOUND        "
   ]
  },
  {
   "cell_type": "code",
   "execution_count": 47,
   "metadata": {},
   "outputs": [
    {
     "data": {
      "text/plain": [
       "'North Carolina'"
      ]
     },
     "execution_count": 47,
     "metadata": {},
     "output_type": "execute_result"
    }
   ],
   "source": [
    "get_longest_state(states)"
   ]
  },
  {
   "cell_type": "code",
   "execution_count": 48,
   "metadata": {},
   "outputs": [
    {
     "data": {
      "text/plain": [
       "'North Carolina'"
      ]
     },
     "execution_count": 48,
     "metadata": {},
     "output_type": "execute_result"
    }
   ],
   "source": [
    "get_longest_state(us_state_abbrev)"
   ]
  },
  {
   "cell_type": "markdown",
   "metadata": {},
   "source": [
    "### 4. Combine State names and Abbreviations"
   ]
  },
  {
   "cell_type": "code",
   "execution_count": 59,
   "metadata": {},
   "outputs": [],
   "source": [
    "def combine_state_names_and_abbreviations():\n",
    "    \"\"\"Return a new list with the first 10 abbreviations from the\n",
    "       us_state_abbrev dict ordered values and the last 10 states from\n",
    "       the states list (takeaways: use another dict method to get all\n",
    "       values and use sorted, list slicing and list concatenation)\"\"\"\n",
    "\n",
    "    # get first 10 abbreviations\n",
    "    abbrev = sorted(us_state_abbrev.values())[:10]\n",
    "\n",
    "    # find last 10 state names\n",
    "    state_names = sorted(states)[-10:]\n",
    "    \n",
    "    # join together\n",
    "    return abbrev + state_names"
   ]
  },
  {
   "cell_type": "code",
   "execution_count": 60,
   "metadata": {},
   "outputs": [
    {
     "data": {
      "text/plain": [
       "['AK',\n",
       " 'AL',\n",
       " 'AR',\n",
       " 'AZ',\n",
       " 'CA',\n",
       " 'CO',\n",
       " 'CT',\n",
       " 'DE',\n",
       " 'FL',\n",
       " 'GA',\n",
       " 'South Dakota',\n",
       " 'Tennessee',\n",
       " 'Texas',\n",
       " 'Utah',\n",
       " 'Vermont',\n",
       " 'Virginia',\n",
       " 'Washington',\n",
       " 'West Virginia',\n",
       " 'Wisconsin',\n",
       " 'Wyoming']"
      ]
     },
     "execution_count": 60,
     "metadata": {},
     "output_type": "execute_result"
    }
   ],
   "source": [
    "combine_state_names_and_abbreviations()"
   ]
  },
  {
   "cell_type": "code",
   "execution_count": null,
   "metadata": {},
   "outputs": [],
   "source": []
  }
 ],
 "metadata": {
  "kernelspec": {
   "display_name": "Python 3",
   "language": "python",
   "name": "python3"
  },
  "language_info": {
   "codemirror_mode": {
    "name": "ipython",
    "version": 3
   },
   "file_extension": ".py",
   "mimetype": "text/x-python",
   "name": "python",
   "nbconvert_exporter": "python",
   "pygments_lexer": "ipython3",
   "version": "3.6.5"
  }
 },
 "nbformat": 4,
 "nbformat_minor": 2
}
